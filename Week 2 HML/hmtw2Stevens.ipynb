{
 "metadata": {
  "language_info": {
   "codemirror_mode": {
    "name": "ipython",
    "version": 3
   },
   "file_extension": ".py",
   "mimetype": "text/x-python",
   "name": "python",
   "nbconvert_exporter": "python",
   "pygments_lexer": "ipython3",
   "version": "3.9.2"
  },
  "orig_nbformat": 2,
  "kernelspec": {
   "name": "python39264bit5cc7332bb1634748ab5cabcc11867259",
   "display_name": "Python 3.9.2 64-bit"
  },
  "metadata": {
   "interpreter": {
    "hash": "0ec801bf6682386805e02eb3d8b9617225edf5db000604db8f6c41683d67405b"
   }
  }
 },
 "nbformat": 4,
 "nbformat_minor": 2,
 "cells": [
  {
   "cell_type": "code",
   "execution_count": null,
   "metadata": {},
   "outputs": [],
   "source": [
    "#Task 1 - After creating the Data Flow Diagram, I created the codes for the number spinner show#\n",
    "spin_name = input(\"What is your name please? \")\n",
    "spin_numb = int(input(\"Welcome \" + spin_name + \", to the number spinner show, can you take a number between 1 and 50 \"))\n",
    "if spin_numb == 9 or spin_numb == 15 or spin_numb == 25 or spin_numb == 35 or spin_numb == 45 or spin_numb == 5:\n",
    "    print(\"Congratulations, \" + spin_name + \"! you have won $1,000,000\")\n",
    "else:\n",
    "    print(\"ohhhhh, \" + spin_name + \", better luck next time. You could try again for a little fee\")"
   ]
  },
  {
   "cell_type": "code",
   "execution_count": 39,
   "metadata": {},
   "outputs": [
    {
     "output_type": "stream",
     "name": "stdout",
     "text": [
      "1800\n1620\n1458\n1312\n1180\n1062\n956\n"
     ]
    }
   ],
   "source": [
    "#Task 2#\n",
    "def function_motorbike():\n",
    "    cost = int(input(\"How much is motorbike?\"))\n",
    "    percentage = float(input(\"What is the percentage loss\"))\n",
    "    output = cost * percentage\n",
    "    return output\n",
    "function_motorbike()\n",
    "\n",
    "cost = int(input(\"How much is motorbike?\"))\n",
    "percentage = 10\n",
    "while cost > 1000:\n",
    "    cost -= (cost/percentage)\n",
    "    print(int(cost))"
   ]
  },
  {
   "cell_type": "code",
   "execution_count": 45,
   "metadata": {},
   "outputs": [
    {
     "output_type": "stream",
     "name": "stdout",
     "text": [
      "1375.0\n"
     ]
    }
   ],
   "source": [
    "#Task 3#\n",
    "def procedure_add():\n",
    "    username = input(\"What is your name please?\")\n",
    "    No1 = float(input(\"Okay! \" +username + \" choose your first number\"))\n",
    "    No2 = float(input(\"Thanks! \" +username + \" choose your second number please\"))\n",
    "    func = input(\"Please select an operation from the following: +, -, *, /, **,:\")\n",
    "\n",
    "    if func == \"+\":\n",
    "        print(float(No1 + No2))\n",
    "    elif func == \"-\":\n",
    "        print(float(No1 - No2))\n",
    "    elif func == \"*\":\n",
    "        print(float(No1 * No2))\n",
    "    elif func == \"/\":\n",
    "        print(float(No1 / No2))\n",
    "    elif func == \"**\":\n",
    "        print(float(No1 ** No2))\n",
    "    else:\n",
    "        print (\"Try again \" + username)\n",
    "\n",
    "procedure_add()"
   ]
  },
  {
   "cell_type": "code",
   "execution_count": 10,
   "metadata": {},
   "outputs": [
    {
     "output_type": "stream",
     "name": "stdout",
     "text": [
      "Hello Stevens! The answer is  33.333333333333336\n"
     ]
    }
   ],
   "source": [
    "def procedure_add(inp_name, inp_no1, inp_no2):\n",
    "    name = inp_name\n",
    "    no1 = inp_no1\n",
    "    no2 = inp_no2\n",
    "\n",
    "\n",
    "\n",
    "\n",
    "\n",
    "    \n",
    "    func = input(\"Please select an operation from the following: +, -, *, /, **,:\")\n",
    "\n",
    "    if func == \"+\":\n",
    "        print(\"Hello\", name + \"! The answer is \",  float(no1 + no2))\n",
    "    elif func == \"-\":\n",
    "        print(\"Hello\", name + \"! The answer is \",  float(no1 - no2))\n",
    "    elif func == \"*\":\n",
    "        print(\"Hello\", name + \"! The answer is \",  float(no1 * no2))\n",
    "    elif func == \"/\":\n",
    "        print(\"Hello\", name + \"! The answer is \",  float(no1 / no2))\n",
    "    elif func == \"**\":\n",
    "        print(\"Hello\", name + \"! The answer is \",  float(no1 ** no2))\n",
    "    else:\n",
    "        print (\"Try again \" + username)\n",
    "\n",
    "name = input(\"What is your name please?\")\n",
    "no1 = float(input(\"Okay! \" +name + \" choose your first number\"))\n",
    "no2 = float(input(\"Thanks! \" +name + \" choose your second number please\"))\n",
    "\n",
    "procedure_add(name,no1,no2)"
   ]
  }
 ]
}