{
 "metadata": {
  "language_info": {
   "codemirror_mode": {
    "name": "ipython",
    "version": 3
   },
   "file_extension": ".py",
   "mimetype": "text/x-python",
   "name": "python",
   "nbconvert_exporter": "python",
   "pygments_lexer": "ipython3",
   "version": "3.9.2"
  },
  "orig_nbformat": 2,
  "kernelspec": {
   "name": "python39264bit5cc7332bb1634748ab5cabcc11867259",
   "display_name": "Python 3.9.2 64-bit"
  },
  "metadata": {
   "interpreter": {
    "hash": "0ec801bf6682386805e02eb3d8b9617225edf5db000604db8f6c41683d67405b"
   }
  }
 },
 "nbformat": 4,
 "nbformat_minor": 2,
 "cells": [
  {
   "cell_type": "code",
   "execution_count": 11,
   "metadata": {},
   "outputs": [
    {
     "output_type": "stream",
     "name": "stdout",
     "text": [
      "     Destinations  FB_Score_10  Ave_Hotel_Rat  All_incl_hotels  Most_Visited\n0             UAE          8.5              5               24         Dubai\n1          France          8.0              5               23         Paris\n2         Nigeria          7.0              3                5         Akure\n3   United States          8.2              4               15    California\n4         England          8.0              4               21        London\n5           Wales          9.5              5               32   South-Wales\n6        Thailand          9.1              5               30       Pattaya\n7          Taiwan          6.3              3               10        Taipei\n8        Malaysia          7.8              3               12  Kuala Lumpur\n9          Turkey          8.6              4               17      Istanbul\n10          Italy          9.1              5               30          Rome\n11          China          8.8              3               22      Shenzhen\n12   Saudi Arabia          8.8              3               23         Mecca\n13          India          6.7              3               15         Delhi\n14          Japan          8.9              5               22         Tokyo\n"
     ]
    }
   ],
   "source": [
    "import pandas as pd\n",
    "holiday_destination = pd.read_csv(\"my_dest.csv\")\n",
    "print(holiday_destination)"
   ]
  },
  {
   "cell_type": "code",
   "execution_count": 13,
   "metadata": {},
   "outputs": [
    {
     "output_type": "stream",
     "name": "stdout",
     "text": [
      "<class 'pandas.core.frame.DataFrame'>\nRangeIndex: 15 entries, 0 to 14\nData columns (total 5 columns):\n #   Column           Non-Null Count  Dtype  \n---  ------           --------------  -----  \n 0   Destinations     15 non-null     object \n 1   FB_Score_10      15 non-null     float64\n 2   Ave_Hotel_Rat    15 non-null     int64  \n 3   All_incl_hotels  15 non-null     int64  \n 4   Most_Visited     15 non-null     object \ndtypes: float64(1), int64(2), object(2)\nmemory usage: 728.0+ bytes\n"
     ]
    }
   ],
   "source": [
    "#How many rows ans columns are there in the file\n",
    "df = holiday_destination\n",
    "df.info()"
   ]
  },
  {
   "cell_type": "code",
   "execution_count": 12,
   "metadata": {},
   "outputs": [
    {
     "output_type": "stream",
     "name": "stdout",
     "text": [
      "    Destinations  FB_Score_10  Ave_Hotel_Rat  All_incl_hotels Most_Visited\n3  United States          8.2              4               15   California\n4        England          8.0              4               21       London\n5          Wales          9.5              5               32  South-Wales\n6       Thailand          9.1              5               30      Pattaya\n7         Taiwan          6.3              3               10       Taipei\n"
     ]
    }
   ],
   "source": [
    "print(holiday_destination.iloc[3:8])"
   ]
  },
  {
   "cell_type": "code",
   "execution_count": null,
   "metadata": {},
   "outputs": [],
   "source": []
  }
 ]
}