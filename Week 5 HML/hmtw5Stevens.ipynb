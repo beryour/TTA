{
 "metadata": {
  "language_info": {
   "codemirror_mode": {
    "name": "ipython",
    "version": 3
   },
   "file_extension": ".py",
   "mimetype": "text/x-python",
   "name": "python",
   "nbconvert_exporter": "python",
   "pygments_lexer": "ipython3",
   "version": "3.9.2"
  },
  "orig_nbformat": 2,
  "kernelspec": {
   "name": "python39264bit5cc7332bb1634748ab5cabcc11867259",
   "display_name": "Python 3.9.2 64-bit"
  },
  "metadata": {
   "interpreter": {
    "hash": "0ec801bf6682386805e02eb3d8b9617225edf5db000604db8f6c41683d67405b"
   }
  }
 },
 "nbformat": 4,
 "nbformat_minor": 2,
 "cells": [
  {
   "cell_type": "code",
   "execution_count": 2,
   "metadata": {},
   "outputs": [
    {
     "output_type": "execute_result",
     "data": {
      "text/html": "\n<div id=\"altair-viz-c773292ebde3452ea53503486ff68b24\"></div>\n<script type=\"text/javascript\">\n  (function(spec, embedOpt){\n    let outputDiv = document.currentScript.previousElementSibling;\n    if (outputDiv.id !== \"altair-viz-c773292ebde3452ea53503486ff68b24\") {\n      outputDiv = document.getElementById(\"altair-viz-c773292ebde3452ea53503486ff68b24\");\n    }\n    const paths = {\n      \"vega\": \"https://cdn.jsdelivr.net/npm//vega@5?noext\",\n      \"vega-lib\": \"https://cdn.jsdelivr.net/npm//vega-lib?noext\",\n      \"vega-lite\": \"https://cdn.jsdelivr.net/npm//vega-lite@4.8.1?noext\",\n      \"vega-embed\": \"https://cdn.jsdelivr.net/npm//vega-embed@6?noext\",\n    };\n\n    function loadScript(lib) {\n      return new Promise(function(resolve, reject) {\n        var s = document.createElement('script');\n        s.src = paths[lib];\n        s.async = true;\n        s.onload = () => resolve(paths[lib]);\n        s.onerror = () => reject(`Error loading script: ${paths[lib]}`);\n        document.getElementsByTagName(\"head\")[0].appendChild(s);\n      });\n    }\n\n    function showError(err) {\n      outputDiv.innerHTML = `<div class=\"error\" style=\"color:red;\">${err}</div>`;\n      throw err;\n    }\n\n    function displayChart(vegaEmbed) {\n      vegaEmbed(outputDiv, spec, embedOpt)\n        .catch(err => showError(`Javascript Error: ${err.message}<br>This usually means there's a typo in your chart specification. See the javascript console for the full traceback.`));\n    }\n\n    if(typeof define === \"function\" && define.amd) {\n      requirejs.config({paths});\n      require([\"vega-embed\"], displayChart, err => showError(`Error loading script: ${err.message}`));\n    } else if (typeof vegaEmbed === \"function\") {\n      displayChart(vegaEmbed);\n    } else {\n      loadScript(\"vega\")\n        .then(() => loadScript(\"vega-lite\"))\n        .then(() => loadScript(\"vega-embed\"))\n        .catch(showError)\n        .then(() => displayChart(vegaEmbed));\n    }\n  })({\"config\": {\"view\": {\"continuousWidth\": 400, \"continuousHeight\": 300}}, \"hconcat\": [{\"mark\": \"point\", \"encoding\": {\"color\": {\"condition\": {\"type\": \"nominal\", \"field\": \"symbol\", \"selection\": \"selector002\"}, \"value\": \"lightgray\"}, \"x\": {\"type\": \"temporal\", \"field\": \"date\"}, \"y\": {\"type\": \"quantitative\", \"field\": \"price\"}}, \"height\": 250, \"selection\": {\"selector002\": {\"type\": \"interval\"}}, \"width\": 250}, {\"mark\": \"point\", \"encoding\": {\"color\": {\"condition\": {\"type\": \"nominal\", \"field\": \"symbol\", \"selection\": \"selector002\"}, \"value\": \"lightgray\"}, \"x\": {\"type\": \"nominal\", \"field\": \"symbol\"}, \"y\": {\"type\": \"quantitative\", \"field\": \"price\"}}, \"height\": 250, \"selection\": {\"selector002\": {\"type\": \"interval\"}}, \"width\": 250}], \"data\": {\"url\": \"https://cdn.jsdelivr.net/npm/vega-datasets@v1.29.0/data/stocks.csv\"}, \"$schema\": \"https://vega.github.io/schema/vega-lite/v4.8.1.json\"}, {\"mode\": \"vega-lite\"});\n</script>",
      "text/plain": [
       "alt.HConcatChart(...)"
      ]
     },
     "metadata": {},
     "execution_count": 2
    }
   ],
   "source": [
    "import altair as alt\n",
    "from vega_datasets import data\n",
    "\n",
    "source = data.stocks.url\n",
    "\n",
    "brush = alt.selection_interval()\n",
    "\n",
    "chart = alt.Chart(source).mark_point().encode(\n",
    "    y='price:Q',\n",
    "    color=alt.condition(brush, 'symbol:N', alt.value('lightgray'))\n",
    ").properties(\n",
    "    width=250,\n",
    "    height=250\n",
    ").add_selection(\n",
    "    brush\n",
    ")\n",
    "\n",
    "chart.encode(x='date:T') | chart.encode(x='symbol:N')"
   ]
  },
  {
   "source": [
    "I have decided on this design choice becuase first it is beautiful (laughing) It tend to create a very detailed visual explanation of the relationship between the stock symbol, prices and dates. It is also very interactive and any region of the display can be selected and the symbol/price relationship will also be seen on the second display.\n",
    "\n",
    "My decision was influenced by wanting to do something really detailed and expressive. Also very interractive.\n",
    "\n",
    "Insights found from the date tell us how highly placed the 'GOOG' stock has been since 2004 and has remained very high while other stocks lag behind."
   ],
   "cell_type": "markdown",
   "metadata": {}
  }
 ]
}