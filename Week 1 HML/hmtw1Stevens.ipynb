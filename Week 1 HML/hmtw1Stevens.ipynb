{
 "metadata": {
  "language_info": {
   "codemirror_mode": {
    "name": "ipython",
    "version": 3
   },
   "file_extension": ".py",
   "mimetype": "text/x-python",
   "name": "python",
   "nbconvert_exporter": "python",
   "pygments_lexer": "ipython3",
   "version": "3.9.2-final"
  },
  "orig_nbformat": 2,
  "kernelspec": {
   "name": "python39264bit5cc7332bb1634748ab5cabcc11867259",
   "display_name": "Python 3.9.2 64-bit",
   "language": "python"
  }
 },
 "nbformat": 4,
 "nbformat_minor": 2,
 "cells": [
  {
   "cell_type": "code",
   "execution_count": 1,
   "metadata": {},
   "outputs": [
    {
     "output_type": "stream",
     "name": "stdout",
     "text": [
      "Hello World\n"
     ]
    }
   ],
   "source": [
    "print(\"Hello World\")"
   ]
  },
  {
   "cell_type": "code",
   "execution_count": 31,
   "metadata": {},
   "outputs": [
    {
     "output_type": "stream",
     "name": "stdout",
     "text": [
      "Hi, StevensI have a number on my mind between 1 and 10.\n",
      "Good job,Stevens! You guessed my number\n"
     ]
    }
   ],
   "source": [
    "#Task 1 = Write a program that does the following: a.stroes a random number, b.Asks a user for their name and stores this in a variable, c.Ask a user to guess the number between 1 and 10, d.Tells the user whether they have guessed correctly.#\n",
    "import random\n",
    "UserName = input(\"Hello! What is your name?\")\n",
    "number = random.randint(1,10)\n",
    "print(\"Hi, \"  +  UserName + \"I have a number on my mind between 1 and 10.\")\n",
    "Guess = int(input(\"Take a guess:\"))\n",
    "\n",
    "if Guess == 6:\n",
    "    print(\"Good job,\" + UserName + \"! You guessed my number\")\n",
    "else:\n",
    "    print(\"Wrong, better luck next time\")"
   ]
  },
  {
   "cell_type": "code",
   "execution_count": 53,
   "metadata": {},
   "outputs": [
    {
     "output_type": "stream",
     "name": "stdout",
     "text": [
      "Nice to meet you, Stevens I have jokes with numbers between 1 and 100\n",
      "Sorry, try again later\n"
     ]
    }
   ],
   "source": [
    "#Task 2 -Write a program that asks a user for their favourite number between 1 and 100 and then tells them a joke based on the number. You should use a minimum of 3 jokes.#\n",
    "import random\n",
    "Username = input(\"Hello! What is your name?\")\n",
    "number1 = random.randint(1, 30)\n",
    "number2 = random.randint(31, 60)\n",
    "number3 = random.randint(61, 100)\n",
    "print(\"Nice to meet you, \" + Username + \" I have jokes with numbers between 1 and 100\")\n",
    "fav_number = int(input(\"What is your favourite number?:\"))\n",
    "joke1 = (\"If you take a look at the sky, it seems blue.\")\n",
    "joke2 = (\"Check through the mirror, you will see yourself.\")\n",
    "joke3 = (\"Your name is actually not yours.\")\n",
    "\n",
    "if fav_number<number1:\n",
    "    print (joke1)\n",
    "elif fav_number<number2:\n",
    "    print (joke2)\n",
    "elif fav_number<number3:\n",
    "    print (joke3)\n",
    "else:\n",
    "    print(\"Sorry, try again later\")"
   ]
  },
  {
   "cell_type": "code",
   "execution_count": 63,
   "metadata": {},
   "outputs": [
    {
     "output_type": "stream",
     "name": "stdout",
     "text": [
      "Thank you, Your favourite meal is Salad, Jollof Rice and Plantain and Cream with a glass of Wine\n"
     ]
    }
   ],
   "source": [
    "#Task 3 - Write a program that allows user to enter their favorite starter, main course, dessert and drink. Concatenante there and output a message which says - \"your favourite meal is.....with a glass of ....\"#\n",
    "myName = input(\"Good evening! What is your name please?\")\n",
    "starter = input(\"Welcome \" + myName + \" What is your favourite starter please?\")\n",
    "main = input(\"Thanks, What is your favourite main course?\")\n",
    "dessert = input(\"What then is your favourite dessert?\")\n",
    "drink = input(\"What drink would you love \" + myName )\n",
    "print(\"Thank you, Your favourite meal is \" + starter +\", \" + main +\" and \" + dessert + \" with a glass of \" + drink)"
   ]
  },
  {
   "cell_type": "code",
   "execution_count": 83,
   "metadata": {},
   "outputs": [
    {
     "output_type": "stream",
     "name": "stdout",
     "text": [
      "2000\n1800.0\n1620.0\n1458.0\n1312.2\n1180.98\n1062.882\n"
     ]
    }
   ],
   "source": [
    "#Task 4- A motor bike cost £2000 and loses 10% of its value every year. Using a loop, print the value of the bike every following year until it falls below £2000#\n",
    "bike_value = 2000\n",
    "yearly_loss = 0.1\n",
    "while bike_value > 1000:\n",
    "    print(bike_value)\n",
    "    bike_value -= yearly_loss * bike_value"
   ]
  },
  {
   "cell_type": "code",
   "execution_count": 108,
   "metadata": {},
   "outputs": [
    {
     "output_type": "stream",
     "name": "stdout",
     "text": [
      "18.0\n"
     ]
    }
   ],
   "source": [
    "#Task 5 - Write a problem which will ask for two numbers from a user, then offer a menu to the user giving them a choice of operator.#\n",
    "username = input(\"What is your name please?\")\n",
    "No1 = float(input(\"Okay! \" +username + \" choose your first number\"))\n",
    "No2 = float(input(\"Thanks! \" +username + \" choose your second number please\"))\n",
    "func = input(\"Please select an operation from the following: +, -, *, /, **,:\")\n",
    "\n",
    "if func == \"+\":\n",
    "    print(float(No1 + No2))\n",
    "elif func == \"-\":\n",
    "    print(float(No1 - No2))\n",
    "elif func == \"*\":\n",
    "    print(float(No1 * No2))\n",
    "elif func == \"/\":\n",
    "    print(float(No1 / No2))\n",
    "elif func == \"**\":\n",
    "    print(float(No1 ** No2))\n",
    "else:\n",
    "    print (\"Try again \" + username)\n"
   ]
  },
  {
   "cell_type": "code",
   "execution_count": 99,
   "metadata": {},
   "outputs": [
    {
     "output_type": "stream",
     "name": "stdout",
     "text": [
      "5000.0\n4500.0\n4050.0\n3645.0\n3280.5\n2952.45\n2657.205\n2391.4845\n2152.33605\n1937.102445\n1743.3922005\n1569.05298045\n1412.147682405\n1270.9329141645\n1143.83962274805\n1029.455660473245\n"
     ]
    }
   ],
   "source": [
    "#Personal Task related to Task 4#\n",
    "#A motor bike cost x amount and loses x% of its value every year. Using a loop, print the value of the bike every following year until it falls below £1000. Note: You need to select the bike amount and the percentage of loss#\n",
    "bike_Value = float(input(\"What is the vehicle value?:\"))\n",
    "yearly_Loss = float(input(\"What is the loss value?:\"))\n",
    "while bike_Value > 1000:\n",
    "    print(bike_Value)\n",
    "    bike_Value -= yearly_Loss * bike_Value"
   ]
  }
 ]
}