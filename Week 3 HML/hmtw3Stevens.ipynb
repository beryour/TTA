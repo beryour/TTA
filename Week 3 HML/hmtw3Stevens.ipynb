{
 "metadata": {
  "language_info": {
   "codemirror_mode": {
    "name": "ipython",
    "version": 3
   },
   "file_extension": ".py",
   "mimetype": "text/x-python",
   "name": "python",
   "nbconvert_exporter": "python",
   "pygments_lexer": "ipython3",
   "version": "3.9.2"
  },
  "orig_nbformat": 2,
  "kernelspec": {
   "name": "python39264bit5cc7332bb1634748ab5cabcc11867259",
   "display_name": "Python 3.9.2 64-bit"
  },
  "metadata": {
   "interpreter": {
    "hash": "0ec801bf6682386805e02eb3d8b9617225edf5db000604db8f6c41683d67405b"
   }
  }
 },
 "nbformat": 4,
 "nbformat_minor": 2,
 "cells": [
  {
   "cell_type": "code",
   "execution_count": 1,
   "metadata": {},
   "outputs": [],
   "source": [
    "#Task 1. Write a program that allows you enter 4 numbers and store them in a file called 'Number-file#\n",
    "da_number = input(\"Enter your first Number\")\n",
    "number_file = open(\"number_file.txt\", \"w\")\n",
    "number_file.write(da_number)\n",
    "da_number1 = input(\"Enter your second Number\")\n",
    "number_file = open(\"number_file.txt\", \"a\")\n",
    "number_file.write(da_number1)\n",
    "da_number2 = input(\"Enter your third Number\")\n",
    "number_file = open(\"number_file.txt\", \"a\")\n",
    "number_file.write(da_number2)\n",
    "da_number3 = input(\"Enter your fourth Number\")\n",
    "number_file = open(\"number_file.txt\", \"a\")\n",
    "number_file.write(da_number3)\n",
    "number_file.close()\n"
   ]
  },
  {
   "cell_type": "code",
   "execution_count": 13,
   "metadata": {},
   "outputs": [
    {
     "output_type": "stream",
     "name": "stdout",
     "text": [
      "You have been awarded third class\n"
     ]
    }
   ],
   "source": [
    "#Task 2\n",
    "def mark_grade():\n",
    "    if per_mark > 70:\n",
    "        print(\"Congrats, your grade is first class\")\n",
    "    elif per_mark == 45:\n",
    "        print(\"You have been awarded second class\")\n",
    "    else:\n",
    "        print(\"You have been awarded third class\")\n",
    "\n",
    "per_mark = int(input(\"Please input your percentage mark\"))\n",
    "mark_grade()"
   ]
  },
  {
   "cell_type": "code",
   "execution_count": 14,
   "metadata": {},
   "outputs": [
    {
     "output_type": "stream",
     "name": "stdout",
     "text": [
      "[2 3 4 5]\n"
     ]
    }
   ],
   "source": [
    "import numpy as np\n",
    "\n",
    "array = np.array([1,2,3,4,5,6,7])\n",
    "\n",
    "print(array[1:5])"
   ]
  }
 ]
}