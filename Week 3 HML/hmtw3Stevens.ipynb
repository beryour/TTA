{
 "metadata": {
  "language_info": {
   "codemirror_mode": {
    "name": "ipython",
    "version": 3
   },
   "file_extension": ".py",
   "mimetype": "text/x-python",
   "name": "python",
   "nbconvert_exporter": "python",
   "pygments_lexer": "ipython3",
   "version": "3.9.2"
  },
  "orig_nbformat": 2,
  "kernelspec": {
   "name": "python39264bit5cc7332bb1634748ab5cabcc11867259",
   "display_name": "Python 3.9.2 64-bit"
  },
  "metadata": {
   "interpreter": {
    "hash": "0ec801bf6682386805e02eb3d8b9617225edf5db000604db8f6c41683d67405b"
   }
  }
 },
 "nbformat": 4,
 "nbformat_minor": 2,
 "cells": [
  {
   "cell_type": "code",
   "execution_count": 1,
   "metadata": {},
   "outputs": [],
   "source": [
    "#Task 1. Write a program that allows you enter 4 numbers and store them in a file called 'Number-file#\n",
    "da_number = input(\"Enter your first Number\")\n",
    "number_file = open(\"number_file.txt\", \"w\")\n",
    "number_file.write(da_number)\n",
    "da_number1 = input(\"Enter your second Number\")\n",
    "number_file = open(\"number_file.txt\", \"a\")\n",
    "number_file.write(da_number1)\n",
    "da_number2 = input(\"Enter your third Number\")\n",
    "number_file = open(\"number_file.txt\", \"a\")\n",
    "number_file.write(da_number2)\n",
    "da_number3 = input(\"Enter your fourth Number\")\n",
    "number_file = open(\"number_file.txt\", \"a\")\n",
    "number_file.write(da_number3)\n",
    "number_file.close()\n"
   ]
  },
  {
   "cell_type": "code",
   "execution_count": 23,
   "metadata": {},
   "outputs": [
    {
     "output_type": "error",
     "ename": "SyntaxError",
     "evalue": "invalid syntax (<ipython-input-23-3f339da92510>, line 5)",
     "traceback": [
      "\u001b[1;36m  File \u001b[1;32m\"<ipython-input-23-3f339da92510>\"\u001b[1;36m, line \u001b[1;32m5\u001b[0m\n\u001b[1;33m    elif per_mark == <70 and !>50:\u001b[0m\n\u001b[1;37m                     ^\u001b[0m\n\u001b[1;31mSyntaxError\u001b[0m\u001b[1;31m:\u001b[0m invalid syntax\n"
     ]
    }
   ],
   "source": [
    "#Task 2\n",
    "def mark_grade():\n",
    "    if per_mark > 70:\n",
    "        print(\"Congrats, your grade is first class\")\n",
    "    elif per_mark == <70 and !>50:\n",
    "        print(\"You have been awarded second class\")\n",
    "    elif per_mark < 50:\n",
    "        print(\"You have been awarded third class\")\n",
    "    else:\n",
    "        print(\"You have entered a wrong score, try again\")\n",
    "\n",
    "per_mark = int(input(\"Please input your percentage mark\"))\n",
    "mark_grade()"
   ]
  },
  {
   "cell_type": "code",
   "execution_count": 25,
   "metadata": {},
   "outputs": [
    {
     "output_type": "stream",
     "name": "stdout",
     "text": [
      "[0 1 2 3 4 5 6 7 8 9]\n"
     ]
    }
   ],
   "source": [
    "#Task 3.1 - Crest a 1D array of numbers from 0-9\n",
    "\n",
    "array = np.array([0,1,2,3,4,5,6,7,8,9])\n",
    "\n",
    "print(array)"
   ]
  },
  {
   "cell_type": "code",
   "execution_count": 28,
   "metadata": {},
   "outputs": [
    {
     "output_type": "execute_result",
     "data": {
      "text/plain": [
       "array([[ True,  True,  True],\n",
       "       [ True,  True,  True],\n",
       "       [ True,  True,  True]])"
      ]
     },
     "metadata": {},
     "execution_count": 28
    }
   ],
   "source": [
    "#Task 3.2 - Create a 3*3 Numpy array of all boolean values Trues.\n",
    "#In python, true=1, false=0\n",
    "\n",
    "np.ones([3,3], dtype=bool)"
   ]
  },
  {
   "cell_type": "code",
   "execution_count": 33,
   "metadata": {},
   "outputs": [
    {
     "output_type": "execute_result",
     "data": {
      "text/plain": [
       "array([1, 3, 5, 7, 9])"
      ]
     },
     "metadata": {},
     "execution_count": 33
    }
   ],
   "source": [
    "#Task 3.3 - Extract all odd numbers from array of 1-10\n",
    "a = np.array([1,2,3,4,5,6,7,8,9,10])\n",
    "a[a % 2 == 1]"
   ]
  },
  {
   "cell_type": "code",
   "execution_count": 31,
   "metadata": {},
   "outputs": [
    {
     "output_type": "stream",
     "name": "stdout",
     "text": [
      "[-1  2 -1  4 -1  6 -1  8 -1 10]\n"
     ]
    }
   ],
   "source": [
    "#Task 3.4 - Replace all odd numbers in an array of 1-10 with the value -1\n",
    "b = np.array([1,2,3,4,5,6,7,8,9,10])\n",
    "b[b % 2 == 1] = -1\n",
    "print(b)"
   ]
  },
  {
   "cell_type": "code",
   "execution_count": 34,
   "metadata": {},
   "outputs": [
    {
     "output_type": "execute_result",
     "data": {
      "text/plain": [
       "array([[1, 2],\n",
       "       [3, 4]])"
      ]
     },
     "metadata": {},
     "execution_count": 34
    }
   ],
   "source": [
    "#Task 3.5 - Convert a 1D array to a 2D array with 2 rows\n",
    "x = np.array([1,2,3,4])\n",
    "y = np.reshape(x, (-1,2))\n",
    "y"
   ]
  },
  {
   "cell_type": "code",
   "execution_count": 39,
   "metadata": {},
   "outputs": [
    {
     "output_type": "stream",
     "name": "stdout",
     "text": [
      "[[1 2 3]\n [4 5 6]\n [7 8 9]]\n[[10 11 12]\n [13 14 15]\n [16 17 18]]\n[[ 84  90  96]\n [201 216 231]\n [318 342 366]]\n1944\n"
     ]
    }
   ],
   "source": [
    "#Task  - Create two arrays a and b, stack these two arrays vertically and use the np.dot and np.sum to calculate totals\n",
    "a = np.arange(1,10).reshape(3,3)\n",
    "b = np.arange(10,19).reshape(3,3)\n",
    "c = np.dot(a,b)\n",
    "d = np.sum(c)\n",
    "print(a)\n",
    "print(b)\n",
    "print(c)\n",
    "print(d)"
   ]
  }
 ]
}