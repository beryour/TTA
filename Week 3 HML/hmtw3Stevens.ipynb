{
 "metadata": {
  "language_info": {
   "codemirror_mode": {
    "name": "ipython",
    "version": 3
   },
   "file_extension": ".py",
   "mimetype": "text/x-python",
   "name": "python",
   "nbconvert_exporter": "python",
   "pygments_lexer": "ipython3",
   "version": "3.9.2-final"
  },
  "orig_nbformat": 2,
  "kernelspec": {
   "name": "python39264bit5cc7332bb1634748ab5cabcc11867259",
   "display_name": "Python 3.9.2 64-bit",
   "language": "python"
  }
 },
 "nbformat": 4,
 "nbformat_minor": 2,
 "cells": [
  {
   "cell_type": "code",
   "execution_count": 1,
   "metadata": {},
   "outputs": [],
   "source": [
    "#Task 1. Write a program that allows you enter 4 numbers and store them in a file called 'Number-file#\n",
    "da_number = input(\"Enter your first Number\")\n",
    "number_file = open(\"number_file.txt\", \"w\")\n",
    "number_file.write(da_number)\n",
    "da_number1 = input(\"Enter your second Number\")\n",
    "number_file = open(\"number_file.txt\", \"a\")\n",
    "number_file.write(da_number1)\n",
    "da_number2 = input(\"Enter your third Number\")\n",
    "number_file = open(\"number_file.txt\", \"a\")\n",
    "number_file.write(da_number2)\n",
    "da_number3 = input(\"Enter your fourth Number\")\n",
    "number_file = open(\"number_file.txt\", \"a\")\n",
    "number_file.write(da_number3)\n",
    "number_file.close()\n"
   ]
  }
 ]
}